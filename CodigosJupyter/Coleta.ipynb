{
 "cells": [
  {
   "cell_type": "code",
   "execution_count": 1,
   "metadata": {},
   "outputs": [
    {
     "name": "stdout",
     "output_type": "stream",
     "text": [
      "Python Version -> 3.7.13\n",
      "Spark Version -> 2.4.6\n"
     ]
    }
   ],
   "source": [
    "import platform\n",
    "print('Python Version ->', platform.python_version())\n",
    "import findspark\n",
    "findspark.init()\n",
    "findspark.find()\n",
    "import pyspark\n",
    "print('Spark Version ->', pyspark.__version__)\n",
    "\n",
    "from pyspark.sql import SparkSession\n",
    "import pyspark.sql.functions as f\n",
    "from pyspark.sql.types import *\n",
    "from pyspark import SparkContext, SparkConf, SparkFiles\n",
    "from datetime import *"
   ]
  },
  {
   "cell_type": "code",
   "execution_count": 2,
   "metadata": {},
   "outputs": [
    {
     "data": {
      "text/html": [
       "\n",
       "            <div>\n",
       "                <p><b>SparkSession - in-memory</b></p>\n",
       "                \n",
       "        <div>\n",
       "            <p><b>SparkContext</b></p>\n",
       "\n",
       "            <p><a href=\"http://ferhspz:4040\">Spark UI</a></p>\n",
       "\n",
       "            <dl>\n",
       "              <dt>Version</dt>\n",
       "                <dd><code>v2.4.6</code></dd>\n",
       "              <dt>Master</dt>\n",
       "                <dd><code>local[*]</code></dd>\n",
       "              <dt>AppName</dt>\n",
       "                <dd><code>ColetaRaw_Cov_Vac</code></dd>\n",
       "            </dl>\n",
       "        </div>\n",
       "        \n",
       "            </div>\n",
       "        "
      ],
      "text/plain": [
       "<pyspark.sql.session.SparkSession at 0x25f30851848>"
      ]
     },
     "execution_count": 2,
     "metadata": {},
     "output_type": "execute_result"
    }
   ],
   "source": [
    "appName = \"ColetaRaw_Cov_Vac\"\n",
    "spark = SparkSession \\\n",
    "        .builder \\\n",
    "        .appName(appName) \\\n",
    "        .master('local[*]')\\\n",
    "        .config(\"spark.jars.packages\", \"org.mongodb.spark:mongo-spark-connector_2.11:2.2.1\")\\\n",
    "        .config(\"spark.mongodb.input.uri\", \"mongodb://localhost:27017/CovidDB\") \\\n",
    "        .config(\"spark.mongodb.output.uri\", \"mongodb://localhost:27017/CovidDB\") \\\n",
    "        .getOrCreate()\n",
    "spark"
   ]
  },
  {
   "cell_type": "markdown",
   "metadata": {},
   "source": [
    "### Coleta de Dados Brutos"
   ]
  },
  {
   "cell_type": "code",
   "execution_count": 3,
   "metadata": {},
   "outputs": [
    {
     "name": "stdout",
     "output_type": "stream",
     "text": [
      "Realizando Extratacao Raw Data COVID\n",
      "FIM da Extratacao Raw Data COVID\n",
      "Realizando Gravacao Raw Data COVID\n",
      "FIM da Gravacao Raw Data COVID\n",
      "Coleta do dia anterior - 2022-09-30\n",
      "Realizando Extratacao Raw Data Vacinacao\n",
      "https://www.saopaulo.sp.gov.br/wp-content/uploads/2022/09/20220930_evolucao_aplicacao_doses.csv\n",
      "20220930_evolucao_aplicacao_doses.csv\n",
      "FIM da Extratacao Raw Data Vacinacao\n",
      "Realizando Gravacao Raw Data COVID\n",
      "FIM da Gravacao Raw Data COVID\n",
      "Lendo Base Raw Data COVID\n",
      "root\n",
      " |-- Casos: integer (nullable = true)\n",
      " |-- Casos por dia: integer (nullable = true)\n",
      " |-- Data: string (nullable = true)\n",
      " |-- _id: struct (nullable = true)\n",
      " |    |-- oid: string (nullable = true)\n",
      " |-- �bitos por dia: integer (nullable = true)\n",
      "\n",
      "Leitura Concluida\n",
      "Lendo Base Raw Data COVID\n",
      "root\n",
      " |-- Data: string (nullable = true)\n",
      " |-- Dose: string (nullable = true)\n",
      " |-- Qtde: integer (nullable = true)\n",
      " |-- _id: struct (nullable = true)\n",
      " |    |-- oid: string (nullable = true)\n",
      "\n",
      "Leitura Concluida\n"
     ]
    }
   ],
   "source": [
    "#Rodar de segunda a sexta após as 16:00 devido disponibilização dos dados de vacinação.\n",
    "#Não havendo dados de vacinação não haverá coleta de dados deste.\n",
    "\n",
    "# url = \"https://www.seade.gov.br/wp-content/uploads/2021/06/Dados-covid-19-estado.csv\" #antigo\n",
    "url = 'https://www.seade.gov.br/wp-content/uploads/coronavirus-files/Dados-covid-19-estado.csv' # novo\n",
    "\n",
    "# print(url)\n",
    "print('Realizando Extratacao Raw Data COVID')\n",
    "spark.sparkContext.addFile(url)\n",
    "\n",
    "df = spark.read.csv(SparkFiles.get('Dados-covid-19-estado.csv'), inferSchema=True, header=True, sep=';')\n",
    "print('FIM da Extratacao Raw Data COVID')\n",
    "\n",
    "print('Realizando Gravacao Raw Data COVID')\n",
    "#Inicio gravação dos dados da covid via mongodb\n",
    "df.write.format(\"com.mongodb.spark.sql.DefaultSource\")\\\n",
    "        .option(\"uri\", \"mongodb://ferhspz:27017/CovidDB.raw_data_covid_sp\")\\\n",
    "        .mode(\"overwrite\")\\\n",
    "        .save()\n",
    "#Fim gravação dos dados da covid via mongodb\n",
    "print('FIM da Gravacao Raw Data COVID')\n",
    "\n",
    "#####Dados Vacianação######\n",
    "#Rodar de segunda a sexta após as 16:00 devido disponibilização dos dados de vacinação.\n",
    "#Não havendo dados de vacinação não haverá coleta de dados deste.\n",
    "\n",
    "hora = str(datetime.now().hour) + str(datetime.now().minute)\n",
    "dataAtual = date.today()\n",
    "\n",
    "if(int(hora) < 1600):\n",
    "    dataAtual = dataAtual - timedelta(1)\n",
    "    print(f'Coleta do dia anterior - {dataAtual}')\n",
    "    \n",
    "mesAtual = str(dataAtual.month).rjust(2, '0')\n",
    "anoAtual = str(dataAtual.year).rjust(4, '0')\n",
    "diaAtual = str(dataAtual.day).rjust(2, '0')\n",
    "dataAtualFmt = anoAtual+mesAtual+diaAtual\n",
    "\n",
    "print('Realizando Extratacao Raw Data Vacinacao')\n",
    "# Trata Url da evolução da vacinação\n",
    "urlVac = f\"https://www.saopaulo.sp.gov.br/wp-content/uploads/{anoAtual}/{mesAtual}/{dataAtualFmt}_evolucao_aplicacao_doses.csv\"\n",
    "\n",
    "arqVac = urlVac[58::1]\n",
    "\n",
    "print(urlVac)\n",
    "print(arqVac)\n",
    "\n",
    "spark.sparkContext.addFile(urlVac)\n",
    "\n",
    "# Create an expected schema\n",
    "columns = StructType([StructField('Data', StringType(), True),\n",
    "                        StructField('Dose', StringType(), True),\n",
    "                        StructField('Qtde', IntegerType(), True)])\n",
    "\n",
    "dfv = spark.read.csv(SparkFiles.get(arqVac), schema=columns, header=True, sep=';')    \n",
    "print('FIM da Extratacao Raw Data Vacinacao')\n",
    "\n",
    "print('Realizando Gravacao Raw Data COVID')\n",
    "#Inicio gravação dos dados da covid via mongodb\n",
    "dfv.write.format(\"com.mongodb.spark.sql.DefaultSource\")\\\n",
    "        .option(\"uri\", \"mongodb://ferhspz:27017/CovidDB.raw_data_vaci_sp\")\\\n",
    "        .mode(\"overwrite\")\\\n",
    "        .save()\n",
    "#Fim gravação dos dados da covid via mongodb\n",
    "print('FIM da Gravacao Raw Data COVID')\n",
    "\n",
    "\n",
    "print('Lendo Base Raw Data COVID')\n",
    "df1 = spark.read.format(\"com.mongodb.spark.sql.DefaultSource\")\\\n",
    "                .option(\"uri\", \"mongodb://ferhspz:27017/CovidDB.raw_data_covid_sp\")\\\n",
    "                .load()\n",
    "df1.printSchema()\n",
    "print('Leitura Concluida')\n",
    "\n",
    "\n",
    "print('Lendo Base Raw Data COVID')\n",
    "df2 = spark.read.format(\"com.mongodb.spark.sql.DefaultSource\")\\\n",
    "                .option(\"uri\", \"mongodb://ferhspz:27017/CovidDB.raw_data_vaci_sp\")\\\n",
    "                .load()\n",
    "df2.printSchema()\n",
    "print('Leitura Concluida')"
   ]
  }
 ],
 "metadata": {
  "kernelspec": {
   "display_name": "Python 3.7.13 ('base')",
   "language": "python",
   "name": "python3"
  },
  "language_info": {
   "codemirror_mode": {
    "name": "ipython",
    "version": 3
   },
   "file_extension": ".py",
   "mimetype": "text/x-python",
   "name": "python",
   "nbconvert_exporter": "python",
   "pygments_lexer": "ipython3",
   "version": "3.7.13"
  },
  "orig_nbformat": 4,
  "vscode": {
   "interpreter": {
    "hash": "e13c075e669c44a78d234c238296fd3696e4e601a6a9dcd398b3fa29e4d10248"
   }
  }
 },
 "nbformat": 4,
 "nbformat_minor": 2
}
