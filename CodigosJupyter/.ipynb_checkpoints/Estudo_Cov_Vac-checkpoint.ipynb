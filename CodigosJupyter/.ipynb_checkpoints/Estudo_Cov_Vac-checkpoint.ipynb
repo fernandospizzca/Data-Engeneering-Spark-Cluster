{
 "cells": [
  {
   "cell_type": "code",
   "execution_count": 1,
   "id": "33dc3bce-5914-4e2f-85c9-5c05e8325fa8",
   "metadata": {},
   "outputs": [
    {
     "name": "stdout",
     "output_type": "stream",
     "text": [
      "Python Version -> 3.7.13\n",
      "Spark Version -> 2.4.6\n"
     ]
    }
   ],
   "source": [
    "import platform\n",
    "print('Python Version ->', platform.python_version())\n",
    "import findspark\n",
    "findspark.find()\n",
    "findspark.init()\n",
    "import pyspark\n",
    "findspark.find()\n",
    "print('Spark Version ->', pyspark.__version__)"
   ]
  },
  {
   "cell_type": "code",
   "execution_count": 2,
   "id": "8ae648e1-cfef-43e5-a9cd-2b0474e6e32d",
   "metadata": {},
   "outputs": [
    {
     "data": {
      "text/html": [
       "\n",
       "            <div>\n",
       "                <p><b>SparkSession - in-memory</b></p>\n",
       "                \n",
       "        <div>\n",
       "            <p><b>SparkContext</b></p>\n",
       "\n",
       "            <p><a href=\"http://ferhspz:4040\">Spark UI</a></p>\n",
       "\n",
       "            <dl>\n",
       "              <dt>Version</dt>\n",
       "                <dd><code>v2.4.6</code></dd>\n",
       "              <dt>Master</dt>\n",
       "                <dd><code>local[*]</code></dd>\n",
       "              <dt>AppName</dt>\n",
       "                <dd><code>Estudo_Cov_Vac</code></dd>\n",
       "            </dl>\n",
       "        </div>\n",
       "        \n",
       "            </div>\n",
       "        "
      ],
      "text/plain": [
       "<pyspark.sql.session.SparkSession at 0x138f18f0f48>"
      ]
     },
     "execution_count": 2,
     "metadata": {},
     "output_type": "execute_result"
    }
   ],
   "source": [
    "from pyspark.sql import SparkSession\n",
    "import pyspark.sql.functions as f\n",
    "from pyspark import SparkContext, SparkConf, SparkFiles\n",
    "from datetime import date\n",
    "import json\n",
    "import matplotlib.pyplot as plt\n",
    "\n",
    "appName = \"Estudo_Cov_Vac\"\n",
    "\n",
    "spark = SparkSession \\\n",
    "        .builder \\\n",
    "        .appName(appName) \\\n",
    "        .master('local[*]')\\\n",
    "        .config(\"spark.jars.packages\", \"org.mongodb.spark:mongo-spark-connector_2.11:2.2.1\")\\\n",
    "        .config(\"spark.mongodb.input.uri\", \"mongodb://localhost:27017/CovidDB\") \\\n",
    "        .config(\"spark.mongodb.output.uri\", \"mongodb://localhost:27017/CovidDB\") \\\n",
    "        .getOrCreate()\n",
    "spark"
   ]
  },
  {
   "cell_type": "markdown",
   "id": "1ae6960f-bbbb-424e-bc2f-d6aaefdee8d7",
   "metadata": {},
   "source": [
    "### Funções Auxiliares"
   ]
  },
  {
   "cell_type": "code",
   "execution_count": 28,
   "id": "3ddb115d-cddf-43e6-988b-3dcbc27f633a",
   "metadata": {},
   "outputs": [],
   "source": [
    "f.udf(returnType=f.StringType())\n",
    "def returnStr(s):\n",
    "    return s"
   ]
  },
  {
   "cell_type": "markdown",
   "id": "d4b71efe-8fc9-4293-b323-01286d5dc2cc",
   "metadata": {},
   "source": [
    "### Carregando base de dados consolidados Covid_X_Vacina"
   ]
  },
  {
   "cell_type": "code",
   "execution_count": 39,
   "id": "97ffc691-519a-4a41-a316-3be910f632ed",
   "metadata": {},
   "outputs": [
    {
     "name": "stdout",
     "output_type": "stream",
     "text": [
      "root\n",
      " |-- Casos_por_Dia: integer (nullable = true)\n",
      " |-- Data: string (nullable = true)\n",
      " |-- Lista_Vac: array (nullable = true)\n",
      " |    |-- element: struct (containsNull = true)\n",
      " |    |    |-- Tp_Dose: string (nullable = true)\n",
      " |    |    |-- Qtd_Doses_Apl_Dia: integer (nullable = true)\n",
      " |-- Obitos_por_Dia: integer (nullable = true)\n",
      " |-- Total_de_Doses_Apl_Dia: long (nullable = true)\n",
      " |-- _id: struct (nullable = true)\n",
      " |    |-- oid: string (nullable = true)\n",
      "\n",
      "+----------+\n",
      "| max(Data)|\n",
      "+----------+\n",
      "|2022-09-19|\n",
      "+----------+\n",
      "\n",
      "+----------+-------------+--------------+----------------------+----------------------------------------------------------------------------------------------------------------+\n",
      "|Data      |Casos_por_Dia|Obitos_por_Dia|Total_de_Doses_Apl_Dia|Lista_Vac                                                                                                       |\n",
      "+----------+-------------+--------------+----------------------+----------------------------------------------------------------------------------------------------------------+\n",
      "|2022-09-19|666          |2             |10620                 |[[3º DOSE ADICIONAL, 181], [2º DOSE ADICIONAL, 6717], [2º DOSE, 979], [1º DOSE ADICIONAL, 2008], [1º DOSE, 735]]|\n",
      "+----------+-------------+--------------+----------------------+----------------------------------------------------------------------------------------------------------------+\n",
      "\n"
     ]
    }
   ],
   "source": [
    "df = spark.read.format(\"com.mongodb.spark.sql.DefaultSource\")\\\n",
    "                .option(\"uri\", \"mongodb://localhost:27017/CovidDB.dados_consolidados_vac_casos_covid_sp\")\\\n",
    "                .load()\n",
    "df.printSchema()\n",
    "df.agg({'Data': 'max'}).show()\n",
    "df.createOrReplaceTempView(\"tabCovVac\")\n",
    "spark.sql(''' select Data,\n",
    "                     Casos_por_Dia,\n",
    "                     Obitos_por_Dia,\n",
    "                     Total_de_Doses_Apl_Dia, \n",
    "                     Lista_Vac\n",
    "              from tabCovVac \n",
    "              where Data in (select max(Data) from tabCovVac)''').show(20,False)"
   ]
  }
 ],
 "metadata": {
  "kernelspec": {
   "display_name": "Python 3.7",
   "language": "python",
   "name": "py37"
  },
  "language_info": {
   "codemirror_mode": {
    "name": "ipython",
    "version": 3
   },
   "file_extension": ".py",
   "mimetype": "text/x-python",
   "name": "python",
   "nbconvert_exporter": "python",
   "pygments_lexer": "ipython3",
   "version": "3.7.13"
  }
 },
 "nbformat": 4,
 "nbformat_minor": 5
}
