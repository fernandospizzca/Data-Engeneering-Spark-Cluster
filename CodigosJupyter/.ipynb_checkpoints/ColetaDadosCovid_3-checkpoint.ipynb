{
 "cells": [
  {
   "cell_type": "code",
   "execution_count": 1,
   "id": "2286d785",
   "metadata": {
    "tags": []
   },
   "outputs": [
    {
     "name": "stdout",
     "output_type": "stream",
     "text": [
      "Python Version -> 3.7.13\n",
      "Spark Version -> 2.4.6\n"
     ]
    }
   ],
   "source": [
    "# run in prompt -> python -m pip install findspark\n",
    "import platform\n",
    "print('Python Version ->', platform.python_version())\n",
    "import findspark\n",
    "findspark.find()\n",
    "findspark.init()\n",
    "import pyspark\n",
    "findspark.find()\n",
    "print('Spark Version ->', pyspark.__version__)"
   ]
  },
  {
   "cell_type": "code",
   "execution_count": 2,
   "id": "6e4e949b",
   "metadata": {
    "tags": []
   },
   "outputs": [
    {
     "data": {
      "text/html": [
       "\n",
       "            <div>\n",
       "                <p><b>SparkSession - in-memory</b></p>\n",
       "                \n",
       "        <div>\n",
       "            <p><b>SparkContext</b></p>\n",
       "\n",
       "            <p><a href=\"http://DESKTOP-T9BDJ6P:4040\">Spark UI</a></p>\n",
       "\n",
       "            <dl>\n",
       "              <dt>Version</dt>\n",
       "                <dd><code>v2.4.6</code></dd>\n",
       "              <dt>Master</dt>\n",
       "                <dd><code>local[*]</code></dd>\n",
       "              <dt>AppName</dt>\n",
       "                <dd><code>TCC_covid</code></dd>\n",
       "            </dl>\n",
       "        </div>\n",
       "        \n",
       "            </div>\n",
       "        "
      ],
      "text/plain": [
       "<pyspark.sql.session.SparkSession at 0x1d983bb11c8>"
      ]
     },
     "execution_count": 2,
     "metadata": {},
     "output_type": "execute_result"
    }
   ],
   "source": [
    "from pyspark.sql import SparkSession\n",
    "import pyspark.sql.functions as f\n",
    "from pyspark import SparkContext, SparkConf, SparkFiles\n",
    "import urllib.request\n",
    "from datetime import date\n",
    "\n",
    "appName = \"TCC_covid\"\n",
    "\n",
    "spark = SparkSession \\\n",
    "        .builder \\\n",
    "        .appName(appName) \\\n",
    "        .master('local[*]')\\\n",
    "        .config(\"spark.jars.packages\", \"org.mongodb.spark:mongo-spark-connector_2.11:2.2.1\")\\\n",
    "        .config(\"spark.mongodb.input.uri\", \"mongodb://localhost:27017/CovidDB\") \\\n",
    "        .config(\"spark.mongodb.output.uri\", \"mongodb://localhost:27017/CovidDB\") \\\n",
    "        .getOrCreate()\n",
    "spark"
   ]
  },
  {
   "cell_type": "markdown",
   "id": "a0ac18e9-9b42-4a11-9e89-d3d830ed6e29",
   "metadata": {},
   "source": [
    "# Coleta de Dados Covid-19"
   ]
  },
  {
   "cell_type": "code",
   "execution_count": 10,
   "id": "f0f170da-53f7-4778-9c10-ca257d1994a8",
   "metadata": {
    "tags": []
   },
   "outputs": [
    {
     "name": "stdout",
     "output_type": "stream",
     "text": [
      "https://www.seade.gov.br/wp-content/uploads/coronavirus-files/Dados-covid-19-estado.csv\n",
      "https://www.saopaulo.sp.gov.br/wp-content/uploads/2022/09/20220913_evolucao_aplicacao_doses.csv\n",
      "20220913_evolucao_aplicacao_doses.csv\n"
     ]
    }
   ],
   "source": [
    "#Rodar de segunda a sexta após as 16:00 devido disponibilização dos dados de vacinação.\n",
    "#Não havendo dados de vacinação não haverá coleta de dados deste. Separar jobs.\n",
    "\n",
    "# url = \"https://www.seade.gov.br/wp-content/uploads/2021/06/Dados-covid-19-estado.csv\" #antigo\n",
    "url = 'https://www.seade.gov.br/wp-content/uploads/coronavirus-files/Dados-covid-19-estado.csv' #novo\n",
    "\n",
    "dataAtual = date.today()\n",
    "diaAtual = str(dataAtual)[8:10]\n",
    "mesAtual = str(dataAtual)[5:7]\n",
    "anoAtual = str(dataAtual)[0:4]\n",
    "dataAtualFmt = anoAtual+mesAtual+diaAtual\n",
    "\n",
    "# Trata Url da evolução da vacinação\n",
    "urlVac = f\"https://www.saopaulo.sp.gov.br/wp-content/uploads/{anoAtual}/{mesAtual}/{dataAtualFmt}_evolucao_aplicacao_doses.csv\"\n",
    "\n",
    "arqVac = urlVac[58::1]\n",
    "\n",
    "print(url)\n",
    "print(urlVac)\n",
    "print(arqVac)"
   ]
  },
  {
   "cell_type": "code",
   "execution_count": 72,
   "id": "1efbe1bd-4237-44a5-8f3b-9dba356b5a8c",
   "metadata": {},
   "outputs": [
    {
     "name": "stdout",
     "output_type": "stream",
     "text": [
      "Realizando Tratamento dos Dados da Vacinacao\n",
      "root\n",
      " |-- Data: string (nullable = true)\n",
      " |-- Dose: string (nullable = true)\n",
      " |-- Qtde: integer (nullable = true)\n",
      "\n",
      "root\n",
      " |-- Data: string (nullable = true)\n",
      " |-- month: string (nullable = true)\n",
      " |-- day: string (nullable = true)\n",
      " |-- year: string (nullable = true)\n",
      " |-- slash: string (nullable = false)\n",
      " |-- Tp_Dose: string (nullable = true)\n",
      " |-- Qtd_Doses_Apl_Dia: integer (nullable = true)\n",
      "\n",
      "+----------+-----------------+-----------------+\n",
      "|Data      |Tp_Dose          |Qtd_Doses_Apl_Dia|\n",
      "+----------+-----------------+-----------------+\n",
      "|2021-01-17|1º DOSE          |342              |\n",
      "|2021-01-17|1º DOSE ADICIONAL|31               |\n",
      "|2021-01-17|2º DOSE          |50               |\n",
      "|2021-01-17|ÚNICA            |19               |\n",
      "|2021-01-18|1º DOSE          |1158             |\n",
      "|2021-01-18|1º DOSE ADICIONAL|49               |\n",
      "|2021-01-18|2º DOSE          |30               |\n",
      "|2021-01-18|ÚNICA            |138              |\n",
      "|2021-01-19|1º DOSE          |9206             |\n",
      "|2021-01-19|1º DOSE ADICIONAL|23               |\n",
      "|2021-01-19|2º DOSE          |18               |\n",
      "|2021-01-20|1º DOSE          |30240            |\n",
      "|2021-01-20|1º DOSE ADICIONAL|19               |\n",
      "|2021-01-20|2º DOSE          |41               |\n",
      "|2021-01-21|1º DOSE          |89010            |\n",
      "|2021-01-21|1º DOSE ADICIONAL|159              |\n",
      "|2021-01-21|2º DOSE          |219              |\n",
      "|2021-01-22|1º DOSE          |129437           |\n",
      "|2021-01-22|1º DOSE ADICIONAL|15               |\n",
      "|2021-01-22|2º DOSE          |356              |\n",
      "+----------+-----------------+-----------------+\n",
      "only showing top 20 rows\n",
      "\n",
      "FIM do Tratamento dos Dados da Vacinacao\n"
     ]
    }
   ],
   "source": [
    "from pyspark.sql.types import *\n",
    "\n",
    "spark.sparkContext.addFile(urlVac)\n",
    "\n",
    "# Create an expected schema\n",
    "columns = StructType([StructField('Data',\n",
    "                                  StringType(), True),\n",
    "                    StructField('Dose',\n",
    "                                StringType(), True),\n",
    "                    StructField('Qtde',\n",
    "                                IntegerType(), True)])\n",
    "\n",
    "df = spark.read.csv(SparkFiles.get(arqVac), schema=columns, header=True, sep=';')\n",
    "dfVac = df.filter(f.col(\"Qtde\").cast(\"int\").isNotNull())\n",
    "\n",
    "print('Realizando Tratamento dos Dados da Vacinacao')\n",
    "dfVac = dfVac.na.fill(0)\n",
    "dfVac.printSchema()\n",
    "\n",
    "dfVac = dfVac.withColumn('Data', f.regexp_replace(dfVac.columns[0], ' de janeiro de ', '/01/'))\\\n",
    "            .withColumn('Data', f.regexp_replace(dfVac.columns[0], ' de fevereiro de ', '/02/'))\\\n",
    "            .withColumn('Data', f.regexp_replace(dfVac.columns[0], ' de março de ', '/03/'))\\\n",
    "            .withColumn('Data', f.regexp_replace(dfVac.columns[0], ' de abril de ', '/04/'))\\\n",
    "            .withColumn('Data', f.regexp_replace(dfVac.columns[0], ' de maio de ', '/05/'))\\\n",
    "            .withColumn('Data', f.regexp_replace(dfVac.columns[0], ' de junho de ', '/06/'))\\\n",
    "            .withColumn('Data', f.regexp_replace(dfVac.columns[0], ' de julho de ', '/07/'))\\\n",
    "            .withColumn('Data', f.regexp_replace(dfVac.columns[0], ' de agosto de ', '/08/'))\\\n",
    "            .withColumn('Data', f.regexp_replace(dfVac.columns[0], ' de setembro de ', '/09/'))\\\n",
    "            .withColumn('Data', f.regexp_replace(dfVac.columns[0], ' de outubro de ', '/10/'))\\\n",
    "            .withColumn('Data', f.regexp_replace(dfVac.columns[0], ' de novembro de ', '/11/'))\\\n",
    "            .withColumn('Data', f.regexp_replace(dfVac.columns[0], ' de dezembro de ', '/12/'))\n",
    "\n",
    "dfVac = dfVac.withColumn('month', f.split(dfVac.columns[0], '/').getItem(0)) \\\n",
    "             .withColumn('day', f.split(dfVac.columns[0], '/').getItem(1)) \\\n",
    "             .withColumn('year', f.split(dfVac.columns[0], '/').getItem(2))\\\n",
    "             .withColumn('slash', f.lit('/'))\n",
    "\n",
    "\n",
    "dfVac = dfVac.withColumn('Tp_Dose', f.lit(f.col(dfVac.columns[1])))\\\n",
    "    .withColumn('Qtd_Doses_Apl_Dia', f.lit(f.col(dfVac.columns[2])))\\\n",
    "    .drop(dfVac.columns[1])\\\n",
    "    .drop(dfVac.columns[2])\n",
    "\n",
    "dfVac = dfVac.withColumn('Data', f.concat(f.lpad(dfVac.day, 2, '0'),  dfVac.slash, f.lpad(dfVac.month, 2, '0'), dfVac.slash, dfVac.year))\n",
    "\n",
    "dfVac.printSchema()\n",
    "\n",
    "dfVac = dfVac.withColumn('Data', f.from_unixtime(f.unix_timestamp('Data', 'dd/MM/yyyy')))\n",
    "dfVac = dfVac.withColumn('Data', f.lit(f.substring(dfVac.Data,1,10)))\n",
    "\n",
    "dfVac = dfVac.drop(dfVac.columns[1])\\\n",
    "             .drop(dfVac.columns[2])\\\n",
    "             .drop(dfVac.columns[3])\\\n",
    "             .drop(dfVac.columns[4])\n",
    "\n",
    "dfVac.show(20,False)\n",
    "print('FIM do Tratamento dos Dados da Vacinacao')"
   ]
  },
  {
   "cell_type": "code",
   "execution_count": 62,
   "id": "fd0d7e0e",
   "metadata": {
    "tags": []
   },
   "outputs": [
    {
     "name": "stdout",
     "output_type": "stream",
     "text": [
      "root\n",
      " |-- Data: string (nullable = true)\n",
      " |-- Casos: integer (nullable = true)\n",
      " |-- Casos por dia: integer (nullable = true)\n",
      " |-- �bitos por dia: integer (nullable = true)\n",
      " |-- _c4: string (nullable = true)\n",
      " |-- _c5: string (nullable = true)\n",
      " |-- _c6: string (nullable = true)\n",
      " |-- _c7: string (nullable = true)\n",
      " |-- _c8: string (nullable = true)\n",
      "\n",
      "+----------+--------------+-------------+--------------+\n",
      "|Data      |Total_de_Casos|Casos_por_Dia|Obitos_por_Dia|\n",
      "+----------+--------------+-------------+--------------+\n",
      "|26/02/2020|1             |1            |0             |\n",
      "|27/02/2020|0             |0            |0             |\n",
      "|28/02/2020|0             |0            |0             |\n",
      "|29/02/2020|2             |1            |0             |\n",
      "|01/03/2020|0             |0            |0             |\n",
      "|02/03/2020|0             |0            |0             |\n",
      "|03/03/2020|0             |0            |0             |\n",
      "|04/03/2020|3             |1            |0             |\n",
      "|05/03/2020|6             |3            |0             |\n",
      "|06/03/2020|10            |4            |0             |\n",
      "|07/03/2020|13            |3            |0             |\n",
      "|08/03/2020|16            |3            |0             |\n",
      "|09/03/2020|16            |0            |0             |\n",
      "|10/03/2020|19            |3            |0             |\n",
      "|11/03/2020|30            |11           |0             |\n",
      "|12/03/2020|46            |16           |0             |\n",
      "|13/03/2020|56            |10           |0             |\n",
      "|14/03/2020|65            |9            |0             |\n",
      "|15/03/2020|136           |71           |0             |\n",
      "|16/03/2020|152           |16           |0             |\n",
      "+----------+--------------+-------------+--------------+\n",
      "only showing top 20 rows\n",
      "\n",
      "+----------+--------------+-------------+--------------+\n",
      "|Data      |Total_de_Casos|Casos_por_Dia|Obitos_por_Dia|\n",
      "+----------+--------------+-------------+--------------+\n",
      "|2020-02-26|1             |1            |0             |\n",
      "|2020-02-27|0             |0            |0             |\n",
      "|2020-02-28|0             |0            |0             |\n",
      "|2020-02-29|2             |1            |0             |\n",
      "|2020-03-01|0             |0            |0             |\n",
      "|2020-03-02|0             |0            |0             |\n",
      "|2020-03-03|0             |0            |0             |\n",
      "|2020-03-04|3             |1            |0             |\n",
      "|2020-03-05|6             |3            |0             |\n",
      "|2020-03-06|10            |4            |0             |\n",
      "|2020-03-07|13            |3            |0             |\n",
      "|2020-03-08|16            |3            |0             |\n",
      "|2020-03-09|16            |0            |0             |\n",
      "|2020-03-10|19            |3            |0             |\n",
      "|2020-03-11|30            |11           |0             |\n",
      "|2020-03-12|46            |16           |0             |\n",
      "|2020-03-13|56            |10           |0             |\n",
      "|2020-03-14|65            |9            |0             |\n",
      "|2020-03-15|136           |71           |0             |\n",
      "|2020-03-16|152           |16           |0             |\n",
      "+----------+--------------+-------------+--------------+\n",
      "only showing top 20 rows\n",
      "\n",
      "root\n",
      " |-- Data: string (nullable = true)\n",
      " |-- Total_de_Casos: integer (nullable = true)\n",
      " |-- Casos_por_Dia: integer (nullable = true)\n",
      " |-- Obitos_por_Dia: integer (nullable = true)\n",
      "\n"
     ]
    }
   ],
   "source": [
    "spark.sparkContext.addFile(url)\n",
    "df = spark.read.csv(SparkFiles.get(\"Dados-covid-19-estado.csv\"), inferSchema=True, header=True, sep=';')\n",
    "\n",
    "df.printSchema()\n",
    "\n",
    "df = df.na.fill(0)\n",
    "\n",
    "df = df.withColumn('Data', f.regexp_replace('Data', 'jan', '01'))\\\n",
    "       .withColumn('Data', f.regexp_replace('Data', 'fev', '02'))\\\n",
    "       .withColumn('Data', f.regexp_replace('Data', 'mar', '03'))\\\n",
    "       .withColumn('Data', f.regexp_replace('Data', 'abr', '04'))\\\n",
    "       .withColumn('Data', f.regexp_replace('Data', 'mai', '05'))\\\n",
    "       .withColumn('Data', f.regexp_replace('Data', 'jun', '06'))\\\n",
    "       .withColumn('Data', f.regexp_replace('Data', 'jul', '07'))\\\n",
    "       .withColumn('Data', f.regexp_replace('Data', 'ago', '08'))\\\n",
    "       .withColumn('Data', f.regexp_replace('Data', 'set', '09'))\\\n",
    "       .withColumn('Data', f.regexp_replace('Data', 'out', '10'))\\\n",
    "       .withColumn('Data', f.regexp_replace('Data', 'nov', '11'))\\\n",
    "       .withColumn('Data', f.regexp_replace('Data', 'dez', '12'))\n",
    "\n",
    "\n",
    "df = df.withColumn('Total_de_Casos', f.lit(f.col(df.columns[1])))\\\n",
    "       .withColumn('Casos_por_Dia', f.lit(f.col(df.columns[2])))\\\n",
    "       .withColumn('Obitos_por_Dia', f.lit(f.col(df.columns[3])))\\\n",
    "       .drop(df.columns[1])\\\n",
    "       .drop(df.columns[2])\\\n",
    "       .drop(df.columns[3])\\\n",
    "       .drop(df.columns[4])\\\n",
    "       .drop(df.columns[5])\\\n",
    "       .drop(df.columns[6])\\\n",
    "       .drop(df.columns[7])\\\n",
    "       .drop(df.columns[8])\n",
    "\n",
    "df.show(20,False)\n",
    "\n",
    "df = df.withColumn('Data', f.from_unixtime(f.unix_timestamp('Data', 'dd/MM/yyyy')))\n",
    "df = df.withColumn('Data', f.lit(f.substring(df.Data,1,10)))\n",
    "\n",
    "df.show(20,False)\n",
    "\n",
    "df.printSchema()"
   ]
  },
  {
   "cell_type": "markdown",
   "id": "e8560c9e-c436-47b1-9154-fd346a85d487",
   "metadata": {},
   "source": [
    "### Gravação das Bases no MongoDB"
   ]
  },
  {
   "cell_type": "code",
   "execution_count": 29,
   "id": "9f70e822-0b72-41b9-aa90-28f0ee468046",
   "metadata": {
    "execution": {
     "iopub.execute_input": "2022-04-26T01:15:53.782496Z",
     "iopub.status.busy": "2022-04-26T01:15:53.781488Z",
     "iopub.status.idle": "2022-04-26T01:15:54.676378Z",
     "shell.execute_reply": "2022-04-26T01:15:54.675386Z",
     "shell.execute_reply.started": "2022-04-26T01:15:53.782496Z"
    },
    "tags": []
   },
   "outputs": [
    {
     "data": {
      "text/plain": [
       "DataFrame[Data: string, Tp_Dose: string, Qtd_Doses_Apl_Dia: int]"
      ]
     },
     "execution_count": 29,
     "metadata": {},
     "output_type": "execute_result"
    }
   ],
   "source": [
    "#Inicio gravação e recuperação dos dados da covid via mongodb\n",
    "df.write.format(\"com.mongodb.spark.sql.DefaultSource\")\\\n",
    "        .option(\"uri\", \"mongodb://localhost:27017/CovidDB.dados_covid_19_sp\")\\\n",
    "        .mode(\"overwrite\")\\\n",
    "        .save()\n",
    "df.unpersist()\n",
    "#Fim gravação e recuperação dos dados da covid via mongodb\n",
    "\n",
    "#Inicio gravação e recuperação dos dados da vacinação contra o covid via mongodb\n",
    "dfVac.write.format(\"com.mongodb.spark.sql.DefaultSource\")\\\n",
    "        .option(\"uri\", \"mongodb://localhost:27017/CovidDB.dados_vacinacao_covid_19_sp\")\\\n",
    "        .mode(\"overwrite\")\\\n",
    "        .save()\n",
    "dfVac.unpersist()\n",
    "#Fim gravação e recuperação dos dados da vacinação contra o covid via mongodb"
   ]
  },
  {
   "cell_type": "markdown",
   "id": "9e53a49f-930a-469c-b855-23538e6925ca",
   "metadata": {},
   "source": [
    "### Consulta Base MongoDB Covid-19"
   ]
  },
  {
   "cell_type": "code",
   "execution_count": 3,
   "id": "21a0d016-0ef3-4158-9c75-6ba46b59c225",
   "metadata": {
    "tags": []
   },
   "outputs": [
    {
     "name": "stdout",
     "output_type": "stream",
     "text": [
      "+-------------+----------+--------------+--------------+--------------------------+\n",
      "|Casos_por_Dia|Data      |Obitos_por_Dia|Total_de_Casos|_id                       |\n",
      "+-------------+----------+--------------+--------------+--------------------------+\n",
      "|595          |2022-09-18|1             |6071578       |[6327c70536b3b908a2f69121]|\n",
      "|2051         |2022-09-17|31            |6070983       |[6327c70536b3b908a2f69120]|\n",
      "|3012         |2022-09-16|42            |6068932       |[6327c70536b3b908a2f6911f]|\n",
      "|2962         |2022-09-15|16            |6065920       |[6327c70536b3b908a2f6911e]|\n",
      "|3947         |2022-09-14|26            |6062958       |[6327c70536b3b908a2f6911d]|\n",
      "|2869         |2022-09-13|29            |6059011       |[6327c70536b3b908a2f6911c]|\n",
      "|434          |2022-09-12|3             |6056142       |[6327c70536b3b908a2f6911b]|\n",
      "|614          |2022-09-11|1             |6055708       |[6327c70536b3b908a2f6911a]|\n",
      "|3183         |2022-09-10|19            |6055094       |[6327c70536b3b908a2f69119]|\n",
      "|3220         |2022-09-09|21            |6051911       |[6327c70536b3b908a2f69118]|\n",
      "+-------------+----------+--------------+--------------+--------------------------+\n",
      "only showing top 10 rows\n",
      "\n",
      "+----------+--------------+\n",
      "|Data      |Obitos_por_Dia|\n",
      "+----------+--------------+\n",
      "|2022-09-18|1             |\n",
      "|2022-09-17|31            |\n",
      "|2022-09-16|42            |\n",
      "|2022-09-15|16            |\n",
      "|2022-09-14|26            |\n",
      "|2022-09-13|29            |\n",
      "|2022-09-12|3             |\n",
      "|2022-09-11|1             |\n",
      "|2022-09-10|19            |\n",
      "|2022-09-09|21            |\n",
      "+----------+--------------+\n",
      "only showing top 10 rows\n",
      "\n",
      "+--------------+---------------+\n",
      "|Total_de_Casos|Total_de_Mortes|\n",
      "+--------------+---------------+\n",
      "|     6,071,578|        174,493|\n",
      "+--------------+---------------+\n",
      "\n"
     ]
    }
   ],
   "source": [
    "df2 = spark.read.format(\"com.mongodb.spark.sql.DefaultSource\")\\\n",
    "                .option(\"uri\", \"mongodb://localhost:27017/CovidDB.dados_covid_19_sp\")\\\n",
    "                .load()\n",
    "\n",
    "df2.select(['*']).orderBy(f.col('Data').desc()).show(10,False)\n",
    "df2.select('Data', 'Obitos_por_Dia').orderBy(f.col('Data').desc()).show(10,False)\n",
    "df2.select(f.format_number(f.sum('Casos_por_Dia'),0).alias('Total_de_Casos'), f.format_number(f.sum('Obitos_por_Dia'),0).alias('Total_de_Mortes')).show()"
   ]
  },
  {
   "cell_type": "markdown",
   "id": "ae7b5ff4-7696-4c83-a0ac-e3d50883904c",
   "metadata": {},
   "source": [
    "### Consulta Base MongoDB Vacinação"
   ]
  },
  {
   "cell_type": "code",
   "execution_count": 4,
   "id": "1ffdd3c6-c9f9-444f-8742-a4896edcbfc7",
   "metadata": {
    "tags": []
   },
   "outputs": [
    {
     "name": "stdout",
     "output_type": "stream",
     "text": [
      "+----------+-----------------+-----------------+--------------------------+\n",
      "|Data      |Qtd_Doses_Apl_Dia|Tp_Dose          |_id                       |\n",
      "+----------+-----------------+-----------------+--------------------------+\n",
      "|2022-09-18|82               |2º DOSE ADICIONAL|[6327c71336b3b908a2f69d76]|\n",
      "|2022-09-17|1224             |1º DOSE          |[6327c71336b3b908a2f69d71]|\n",
      "|2022-09-17|1413             |1º DOSE ADICIONAL|[6327c71336b3b908a2f69d72]|\n",
      "|2022-09-17|1128             |2º DOSE          |[6327c71336b3b908a2f69d73]|\n",
      "|2022-09-17|6156             |2º DOSE ADICIONAL|[6327c71336b3b908a2f69d74]|\n",
      "|2022-09-17|44               |3º DOSE ADICIONAL|[6327c71336b3b908a2f69d75]|\n",
      "|2022-09-16|4910             |1º DOSE          |[6327c71336b3b908a2f69d6b]|\n",
      "|2022-09-16|9396             |1º DOSE ADICIONAL|[6327c71336b3b908a2f69d6c]|\n",
      "|2022-09-16|4319             |2º DOSE          |[6327c71336b3b908a2f69d6d]|\n",
      "|2022-09-16|30083            |2º DOSE ADICIONAL|[6327c71336b3b908a2f69d6e]|\n",
      "+----------+-----------------+-----------------+--------------------------+\n",
      "only showing top 10 rows\n",
      "\n",
      "+-----------------+------------------+\n",
      "|          Tp_Dose|Total_de_Doses_Apl|\n",
      "+-----------------+------------------+\n",
      "|          2º DOSE|          40029853|\n",
      "|3º DOSE ADICIONAL|             43613|\n",
      "|2º DOSE ADICIONAL|          11718845|\n",
      "|4º DOSE ADICIONAL|               274|\n",
      "|          1º DOSE|          42480672|\n",
      "|1º DOSE ADICIONAL|          27739017|\n",
      "|            ÚNICA|           1276709|\n",
      "+-----------------+------------------+\n",
      "\n",
      "+------------------+\n",
      "|Total_de_Doses_Apl|\n",
      "+------------------+\n",
      "|       123,288,983|\n",
      "+------------------+\n",
      "\n"
     ]
    }
   ],
   "source": [
    "df2Vac = spark.read.format(\"com.mongodb.spark.sql.DefaultSource\")\\\n",
    "                .option(\"uri\", \"mongodb://localhost:27017/CovidDB.dados_vacinacao_covid_19_sp\")\\\n",
    "                .load()\n",
    "df2Vac.select(['*']).orderBy(f.col('Data').desc(), f.col('Tp_Dose')).show(10,False)\n",
    "df2Vac.groupBy('Tp_Dose').agg(f.sum('Qtd_Doses_Apl_Dia').alias('Total_de_Doses_Apl')).show()\n",
    "df2Vac.select(f.format_number(f.sum('Qtd_Doses_Apl_Dia'),0).alias('Total_de_Doses_Apl')).show()"
   ]
  },
  {
   "cell_type": "code",
   "execution_count": 5,
   "id": "787068bd-5940-4043-b1d8-6159928f33a2",
   "metadata": {
    "tags": []
   },
   "outputs": [
    {
     "name": "stdout",
     "output_type": "stream",
     "text": [
      "+----------+\n",
      "| max(Data)|\n",
      "+----------+\n",
      "|2022-09-18|\n",
      "+----------+\n",
      "\n"
     ]
    }
   ],
   "source": [
    "df2Vac.select(f.max(df2Vac.Data)).show()"
   ]
  },
  {
   "cell_type": "code",
   "execution_count": 22,
   "id": "140cce35-5f51-488e-9ab2-613a0b8f15bc",
   "metadata": {
    "tags": []
   },
   "outputs": [
    {
     "name": "stdout",
     "output_type": "stream",
     "text": [
      "root\n",
      " |-- Data: string (nullable = false)\n",
      " |-- Casos_por_Dia: integer (nullable = true)\n",
      " |-- Obitos_por_Dia: integer (nullable = true)\n",
      " |-- Total_de_Doses_Apl_Dia: long (nullable = true)\n",
      " |-- Lista_Vac: array (nullable = true)\n",
      " |    |-- element: struct (containsNull = true)\n",
      " |    |    |-- Tp_Dose: string (nullable = false)\n",
      " |    |    |-- Qtd_Doses_Apl_Dia: integer (nullable = true)\n",
      "\n",
      "+----------+-------------+--------------+----------------------+---------+\n",
      "|Data      |Casos_por_Dia|Obitos_por_Dia|Total_de_Doses_Apl_Dia|Lista_Vac|\n",
      "+----------+-------------+--------------+----------------------+---------+\n",
      "|2020-02-26|1            |0             |0                     |[[, 0]]  |\n",
      "|2020-02-27|0            |0             |0                     |[[, 0]]  |\n",
      "|2020-02-28|0            |0             |0                     |[[, 0]]  |\n",
      "|2020-02-29|1            |0             |0                     |[[, 0]]  |\n",
      "|2020-03-01|0            |0             |0                     |[[, 0]]  |\n",
      "|2020-03-02|0            |0             |0                     |[[, 0]]  |\n",
      "|2020-03-03|0            |0             |0                     |[[, 0]]  |\n",
      "|2020-03-04|1            |0             |0                     |[[, 0]]  |\n",
      "|2020-03-05|3            |0             |0                     |[[, 0]]  |\n",
      "|2020-03-06|4            |0             |0                     |[[, 0]]  |\n",
      "|2020-03-07|3            |0             |0                     |[[, 0]]  |\n",
      "|2020-03-08|3            |0             |0                     |[[, 0]]  |\n",
      "|2020-03-09|0            |0             |0                     |[[, 0]]  |\n",
      "|2020-03-10|3            |0             |0                     |[[, 0]]  |\n",
      "|2020-03-11|11           |0             |0                     |[[, 0]]  |\n",
      "|2020-03-12|16           |0             |0                     |[[, 0]]  |\n",
      "|2020-03-13|10           |0             |0                     |[[, 0]]  |\n",
      "|2020-03-14|9            |0             |0                     |[[, 0]]  |\n",
      "|2020-03-15|71           |0             |0                     |[[, 0]]  |\n",
      "|2020-03-16|16           |0             |0                     |[[, 0]]  |\n",
      "|2020-03-17|12           |1             |0                     |[[, 0]]  |\n",
      "|2020-03-18|76           |3             |0                     |[[, 0]]  |\n",
      "|2020-03-19|46           |1             |0                     |[[, 0]]  |\n",
      "|2020-03-20|110          |4             |0                     |[[, 0]]  |\n",
      "|2020-03-21|63           |6             |0                     |[[, 0]]  |\n",
      "|2020-03-22|172          |7             |0                     |[[, 0]]  |\n",
      "|2020-03-23|114          |8             |0                     |[[, 0]]  |\n",
      "|2020-03-24|65           |10            |0                     |[[, 0]]  |\n",
      "|2020-03-25|52           |8             |0                     |[[, 0]]  |\n",
      "|2020-03-26|190          |10            |0                     |[[, 0]]  |\n",
      "+----------+-------------+--------------+----------------------+---------+\n",
      "only showing top 30 rows\n",
      "\n"
     ]
    },
    {
     "data": {
      "text/plain": [
       "DataFrame[Data: string, Lista_Vac: array<struct<Tp_Dose:string,Qtd_Doses_Apl_Dia:int>>]"
      ]
     },
     "execution_count": 22,
     "metadata": {},
     "output_type": "execute_result"
    }
   ],
   "source": [
    "dfjoin = df2.alias('cov').select(f.col('cov.Data'), f.col('cov.Casos_por_Dia'), f.col('cov.Obitos_por_Dia'))\\\n",
    "                         .join(df2Vac.alias('vac').select(f.col('vac.Data').alias('dataVac'),f.col('vac.Qtd_Doses_Apl_Dia'), f.col('vac.Tp_Dose'))\\\n",
    "                               , f.col('cov.Data') == f.col('dataVac'), \"left\").na.fill(0).na.fill(\"\")\n",
    "dfjoin = dfjoin.drop(dfjoin.columns[3])\n",
    "dfD = df2Vac.groupBy('Data').agg(f.sum('Qtd_Doses_Apl_Dia').alias('Total_de_Doses_Apl_Dia'))\n",
    "\n",
    "dfjoin2 = dfjoin.join(dfD.alias('sjoin').select(f.col('sjoin.Data').alias('sjoinData'), f.col('sjoin.Total_de_Doses_Apl_Dia'))\\\n",
    "                               , dfjoin.Data == f.col('sjoinData'), \"left\").na.fill(0).na.fill(\"\")\n",
    "\n",
    "dfjoin.unpersist()\n",
    "dfD.unpersist()\n",
    "# dfjoin2.printSchema()\n",
    "dfjoin2 = dfjoin2.drop(dfjoin2.sjoinData)\n",
    "\n",
    "dflst = dfjoin2.groupBy('Data').agg(f.collect_list(f.struct('Tp_Dose', 'Qtd_Doses_Apl_Dia')).alias('Lista_Vac'))\n",
    "\n",
    "dfjoin3 = dfjoin2.join(dflst.alias('join3').select(f.col('join3.Data').alias('join3Dt'), f.col('join3.Lista_Vac'))\\\n",
    "                               , dfjoin2.Data == f.col('join3Dt'), 'left').na.fill(0).na.fill(\"\")\n",
    "\n",
    "dfcons = dfjoin3.select('Data', 'Casos_por_Dia', 'Obitos_por_Dia', 'Total_de_Doses_Apl_Dia', 'Lista_Vac').orderBy('Data')\n",
    "dfcons = dfcons.dropDuplicates(['Data'])\n",
    "\n",
    "dfcons.printSchema()\n",
    "\n",
    "dfcons.show(30,False)\n",
    "dfjoin2.unpersist()\n",
    "dfjoin3.unpersist()\n",
    "dflst.unpersist()\n",
    "# dfjoin2.groupBy('Data', 'Tp_Dose', 'Qtd_Doses_Apl_Dia').agg(f.struct('Tp_Dose', 'Qtd_Doses_Apl_Dia').alias('Lista_Vacina')).show(30,False)\n",
    "# dfjoin2.select(f.struct('Tp_Dose', 'Qtd_Doses_Apl_Dia').alias('Lista_Vacina').collect()).show(30,False)\n",
    "# dfjoin2.groupBy('Data').agg(f.collect_list(f.struct('Tp_Dose', 'Qtd_Doses_Apl_Dia')).alias('Lista_Vac')).show(50,False)\n",
    "# dfjoin2.select(['*']).orderBy(f.col('Data').desc(), f.col('Tp_Dose')).show(10,False)\n",
    "# dfjoin2.groupBy('Data','Total_de_Doses_Apl_Dia').count().orderBy(f.col('Data').desc(), 'Total_de_Doses_Apl_Dia').drop('count').show()\n",
    "# dfjoin2.select('Data', 'Total_de_Doses_Apl_Dia').distinct().agg(f.sum('Total_de_Doses_Apl_Dia')).alias('Total_de_Doses_Apl').show()"
   ]
  },
  {
   "cell_type": "code",
   "execution_count": null,
   "id": "ac1398bd-0067-46fd-ab82-efb039ade92a",
   "metadata": {
    "tags": []
   },
   "outputs": [],
   "source": [
    "dfcons.write.format(\"com.mongodb.spark.sql.DefaultSource\")\\\n",
    "        .option(\"uri\", \"mongodb://localhost:27017/CovidDB.dados_consolidados_vac_casos_covid_sp\")\\\n",
    "        .mode(\"overwrite\")\\\n",
    "        .save()\n",
    "dfcons.unpersist()\n",
    "\n",
    "df3 = spark.read.format(\"com.mongodb.spark.sql.DefaultSource\")\\\n",
    "                .option(\"uri\", \"mongodb://localhost:27017/CovidDB.dados_consolidados_vac_casos_covid_sp\")\\\n",
    "                .load()\n"
   ]
  },
  {
   "cell_type": "code",
   "execution_count": 24,
   "id": "6d44bb25-56f4-46c6-b90f-754a2f198546",
   "metadata": {},
   "outputs": [
    {
     "name": "stdout",
     "output_type": "stream",
     "text": [
      "+----------+-------------+--------------+----------------------+---------+\n",
      "|Data      |Casos_por_Dia|Obitos_por_Dia|Total_de_Doses_Apl_Dia|Lista_Vac|\n",
      "+----------+-------------+--------------+----------------------+---------+\n",
      "|2020-02-26|1            |0             |0                     |[[, 0]]  |\n",
      "|2020-02-27|0            |0             |0                     |[[, 0]]  |\n",
      "|2020-02-28|0            |0             |0                     |[[, 0]]  |\n",
      "|2020-02-29|1            |0             |0                     |[[, 0]]  |\n",
      "|2020-03-01|0            |0             |0                     |[[, 0]]  |\n",
      "|2020-03-02|0            |0             |0                     |[[, 0]]  |\n",
      "|2020-03-03|0            |0             |0                     |[[, 0]]  |\n",
      "|2020-03-04|1            |0             |0                     |[[, 0]]  |\n",
      "|2020-03-05|3            |0             |0                     |[[, 0]]  |\n",
      "|2020-03-06|4            |0             |0                     |[[, 0]]  |\n",
      "|2020-03-07|3            |0             |0                     |[[, 0]]  |\n",
      "|2020-03-08|3            |0             |0                     |[[, 0]]  |\n",
      "|2020-03-09|0            |0             |0                     |[[, 0]]  |\n",
      "|2020-03-10|3            |0             |0                     |[[, 0]]  |\n",
      "|2020-03-11|11           |0             |0                     |[[, 0]]  |\n",
      "|2020-03-12|16           |0             |0                     |[[, 0]]  |\n",
      "|2020-03-13|10           |0             |0                     |[[, 0]]  |\n",
      "|2020-03-14|9            |0             |0                     |[[, 0]]  |\n",
      "|2020-03-15|71           |0             |0                     |[[, 0]]  |\n",
      "|2020-03-16|16           |0             |0                     |[[, 0]]  |\n",
      "|2020-03-17|12           |1             |0                     |[[, 0]]  |\n",
      "|2020-03-18|76           |3             |0                     |[[, 0]]  |\n",
      "|2020-03-19|46           |1             |0                     |[[, 0]]  |\n",
      "|2020-03-20|110          |4             |0                     |[[, 0]]  |\n",
      "|2020-03-21|63           |6             |0                     |[[, 0]]  |\n",
      "|2020-03-22|172          |7             |0                     |[[, 0]]  |\n",
      "|2020-03-23|114          |8             |0                     |[[, 0]]  |\n",
      "|2020-03-24|65           |10            |0                     |[[, 0]]  |\n",
      "|2020-03-25|52           |8             |0                     |[[, 0]]  |\n",
      "|2020-03-26|190          |10            |0                     |[[, 0]]  |\n",
      "+----------+-------------+--------------+----------------------+---------+\n",
      "only showing top 30 rows\n",
      "\n"
     ]
    }
   ],
   "source": [
    "df3.select('Data', 'Casos_por_Dia', 'Obitos_por_Dia', 'Total_de_Doses_Apl_Dia', 'Lista_Vac').orderBy('Data').show(30,False)"
   ]
  }
 ],
 "metadata": {
  "kernelspec": {
   "display_name": "Python 3.7",
   "language": "python",
   "name": "py37"
  },
  "language_info": {
   "codemirror_mode": {
    "name": "ipython",
    "version": 3
   },
   "file_extension": ".py",
   "mimetype": "text/x-python",
   "name": "python",
   "nbconvert_exporter": "python",
   "pygments_lexer": "ipython3",
   "version": "3.7.13"
  }
 },
 "nbformat": 4,
 "nbformat_minor": 5
}
